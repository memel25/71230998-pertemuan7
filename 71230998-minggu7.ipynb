{
 "cells": [
  {
   "cell_type": "code",
   "execution_count": 1,
   "id": "61b7bfbc",
   "metadata": {},
   "outputs": [
    {
     "name": "stdout",
     "output_type": "stream",
     "text": [
      "masukan kata pertama: atma\n",
      "masukan kata kedua: mata\n",
      "kata tersebut adalah anagram\n"
     ]
    }
   ],
   "source": [
    "#soal 7.1\n",
    "def ini_anagram():\n",
    "    pertama = sorted(p)\n",
    "    kedua = sorted(k)\n",
    "    if pertama == kedua or kedua == pertama:\n",
    "        print(\"kata tersebut adalah anagram\")\n",
    "    else: \n",
    "        print(\"kata tersebut bukan anagram\")\n",
    "        \n",
    "p = input(\"masukan kata pertama: \").lower()\n",
    "k = input(\"masukan kata kedua: \").lower()\n",
    "ini_anagram()"
   ]
  },
  {
   "cell_type": "code",
   "execution_count": 2,
   "id": "b723625c",
   "metadata": {},
   "outputs": [
    {
     "name": "stdout",
     "output_type": "stream",
     "text": [
      "Masukkan kalimat anda: Nenek moyang dan orang tua terdahulu membuat dongeng untuk anak-anak dengan tujuan menyisipkan unsur pendidikan moral didaktis dan sebagai sarana hiburan. Oleh karena itu, dongeng bisa menjadi wahana untuk mengasah imajinasi, alat pembuka cakrawala anak, mencerdaskan anak dari aspek kognitif, afektif dan psikomotorik. Dongeng juga menjadi salah satu media komunikasi untuk menyampaikan beberapa pelajaran dari pesan moral yang didapatkan sehingga diharapkan anak dapat menerapkan apa yang sudah didengarkan dalam kehidupan sehari-hari.\n",
      "Masukkan kata yang ingin dicari: dongeng\n",
      "dongeng ada 3 buah di kalimat tersebut\n"
     ]
    }
   ],
   "source": [
    "def frekuensi_kata(kalimat, kata):\n",
    "    kalimat_aslinya = kalimat.replace(\".\", \"\").replace(\"!\", \"\").replace(\",\", \"\").replace(\"?\", \"\").replace(\":\", \"\").replace(\";\", \"\")\n",
    "    kalimat_baru = kalimat_aslinya.lower()\n",
    "    kata1 = kalimat_baru.split()\n",
    "    \n",
    "    frekuensi = 0\n",
    "    for kata2 in kata1:\n",
    "        if kata2 == kata:\n",
    "            frekuensi += 1\n",
    "    return frekuensi\n",
    "kalimat = input(\"Masukkan kalimat anda: \")\n",
    "kata = input(\"Masukkan kata yang ingin dicari: \")\n",
    "frekuensi = frekuensi_kata(kalimat, kata)\n",
    "print(f\"{kata} ada {frekuensi} buah di kalimat tersebut\")"
   ]
  },
  {
   "cell_type": "code",
   "execution_count": 4,
   "id": "5ad20e5c",
   "metadata": {},
   "outputs": [
    {
     "name": "stdout",
     "output_type": "stream",
     "text": [
      "Masukkan kalimat anda: suka      minum\n",
      "Output : suka minum\n"
     ]
    }
   ],
   "source": [
    "def kelebihan_spasi():\n",
    "    kata1 = kata.split()\n",
    "    kata_hasil = []\n",
    "    for kata2 in kata1:\n",
    "        if kata2[0] == \" \":\n",
    "            continue\n",
    "        else:\n",
    "            kata_hasil.append(kata2)\n",
    "    return \" \".join(kata_hasil)\n",
    "            \n",
    "kata = input(\"Masukkan kalimat anda: \")\n",
    "kalimat_normal = hapus_spasi_berlebih()\n",
    "print(f\"Output : {kalimat_normal}\")"
   ]
  },
  {
   "cell_type": "code",
   "execution_count": 6,
   "id": "95529871",
   "metadata": {},
   "outputs": [
    {
     "name": "stdout",
     "output_type": "stream",
     "text": [
      "Masukkan kalimat anda: ayam geprek depan ukdw enak tapi pedes banget gakuat\n",
      "Terpendek : ayam dan Terpanjang : geprek\n"
     ]
    }
   ],
   "source": [
    "def pendek_panjang():\n",
    "    katas = kalimat.split()\n",
    "    pendek = katas[0]\n",
    "    panjang = katas[0]\n",
    "    for kata in katas:\n",
    "        if len(kata) < len(pendek):\n",
    "            pendek = kata\n",
    "        elif len(kata) > len(panjang):\n",
    "            panjang = kata\n",
    "    return pendek, panjang\n",
    "\n",
    "kalimat = input(\"Masukkan kalimat anda: \")\n",
    "pendek, panjang = pendek_panjang()\n",
    "print(f\"Terpendek : {pendek} dan Terpanjang : {panjang}\")"
   ]
  }
 ],
 "metadata": {
  "kernelspec": {
   "display_name": "Python 3 (ipykernel)",
   "language": "python",
   "name": "python3"
  },
  "language_info": {
   "codemirror_mode": {
    "name": "ipython",
    "version": 3
   },
   "file_extension": ".py",
   "mimetype": "text/x-python",
   "name": "python",
   "nbconvert_exporter": "python",
   "pygments_lexer": "ipython3",
   "version": "3.11.5"
  }
 },
 "nbformat": 4,
 "nbformat_minor": 5
}
